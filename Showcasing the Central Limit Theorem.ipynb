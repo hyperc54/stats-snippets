{
 "cells": [
  {
   "cell_type": "markdown",
   "metadata": {},
   "source": [
    "# Introduction"
   ]
  },
  {
   "cell_type": "markdown",
   "metadata": {},
   "source": [
    "We'll try to get a simple intuition over the Central Limit Theorem.\n",
    "\n",
    "Central Limit Theorem states that the sum of independant and identically distributed random variables will tend to be normally distributed as the number of members in the sum goes up. To understand this phrase it's better to experiment it ! That's what we'll do below."
   ]
  },
  {
   "cell_type": "markdown",
   "metadata": {},
   "source": [
    "# Imports"
   ]
  },
  {
   "cell_type": "code",
   "execution_count": 54,
   "metadata": {},
   "outputs": [],
   "source": [
    "import numpy as np # Contains the random methods we will need\n",
    "\n",
    "# Plotting packages\n",
    "import matplotlib.pyplot as plt\n",
    "import seaborn as sns\n",
    "sns.set_style(\"dark\")\n",
    "sns.set_style({'patch.force_edgecolor': False})"
   ]
  },
  {
   "cell_type": "markdown",
   "metadata": {},
   "source": [
    "# Some helpers functions"
   ]
  },
  {
   "cell_type": "code",
   "execution_count": 55,
   "metadata": {},
   "outputs": [],
   "source": [
    "def print_distribution(custom_sampling_method, N=10000):\n",
    "    samples = [custom_sampling_method() for i in range(N)]\n",
    "    \n",
    "    print(\"Mean: %s\" % np.mean(samples))\n",
    "    print(\"Standard Deviation: %s\" % np.std(samples))\n",
    "    print(\"A look at the distribution\")\n",
    "    plt.hist(samples, bins=100)"
   ]
  },
  {
   "cell_type": "markdown",
   "metadata": {},
   "source": [
    "# Construct a custom distribution"
   ]
  },
  {
   "cell_type": "code",
   "execution_count": 56,
   "metadata": {},
   "outputs": [
    {
     "name": "stdout",
     "output_type": "stream",
     "text": [
      "Mean: 24.62636581659578\n",
      "Standard Deviation: 17.255295802808146\n",
      "A look at the distribution\n"
     ]
    },
    {
     "data": {
      "image/png": "[encoded data removed]",
      "text/plain": [
       "<Figure size 432x288 with 1 Axes>"
      ]
     },
     "metadata": {},
     "output_type": "display_data"
    }
   ],
   "source": [
    "def custom_sampling_method():\n",
    "    a = np.random.random()\n",
    "    \n",
    "    if a < 0.2:\n",
    "        return np.random.normal(1, 10)\n",
    "    elif a > 0.7:\n",
    "        return np.random.normal(15, 3)\n",
    "    else:\n",
    "        return np.random.uniform(30, 50)\n",
    "\n",
    "print_distribution(custom_sampling_method)"
   ]
  },
  {
   "cell_type": "markdown",
   "metadata": {},
   "source": [
    "# Perform the sum of multiple samples from this custom distribution"
   ]
  },
  {
   "cell_type": "code",
   "execution_count": 57,
   "metadata": {},
   "outputs": [
    {
     "data": {
      "text/plain": [
       "24232.19216184898"
      ]
     },
     "execution_count": 57,
     "metadata": {},
     "output_type": "execute_result"
    }
   ],
   "source": [
    "def compute_sum_from_same_sampling_method(method, N=1000):\n",
    "    return np.sum([method() for i in range(N)])\n",
    "    \n",
    "    \n",
    "compute_sum_from_same_sampling_method(custom_sampling_method)"
   ]
  },
  {
   "cell_type": "code",
   "execution_count": 58,
   "metadata": {},
   "outputs": [
    {
     "name": "stdout",
     "output_type": "stream",
     "text": [
      "Mean: 24703.214482885975\n",
      "Standard Deviation: 536.7912567754198\n",
      "A look at the distribution\n"
     ]
    },
    {
     "data": {
      "image/png": "[encoded data removed]",
      "text/plain": [
       "<Figure size 432x288 with 1 Axes>"
      ]
     },
     "metadata": {},
     "output_type": "display_data"
    }
   ],
   "source": [
    "print_distribution(lambda : compute_sum_from_same_sampling_method(custom_sampling_method))"
   ]
  },
  {
   "cell_type": "markdown",
   "metadata": {},
   "source": [
    "We can see here that despite the weird looking distribution we designed, the sum of multiple samples from it is normally distributed, and that would have been the same for any input distribution !\n",
    "\n",
    "One thing to note is that if the sum is normally distributed, the mean will be as well. It's more interesting to play with the mean to look at how the normal evolves with the number of samples we take."
   ]
  },
  {
   "cell_type": "markdown",
   "metadata": {},
   "source": [
    "# What about the mean distribution ?"
   ]
  },
  {
   "cell_type": "code",
   "execution_count": 59,
   "metadata": {},
   "outputs": [
    {
     "data": {
      "text/plain": [
       "24.018776959017668"
      ]
     },
     "execution_count": 59,
     "metadata": {},
     "output_type": "execute_result"
    }
   ],
   "source": [
    "def compute_mean_from_same_sampling_method(method, N=1000):\n",
    "    return np.mean([method() for i in range(N)])\n",
    "    \n",
    "    \n",
    "compute_mean_from_same_sampling_method(custom_sampling_method)"
   ]
  },
  {
   "cell_type": "code",
   "execution_count": 60,
   "metadata": {},
   "outputs": [
    {
     "name": "stdout",
     "output_type": "stream",
     "text": [
      "Mean: 24.696834835331416\n",
      "Standard Deviation: 0.5455730164351356\n",
      "A look at the distribution\n"
     ]
    },
    {
     "data": {
      "image/png": "[encoded data removed]",
      "text/plain": [
       "<Figure size 432x288 with 1 Axes>"
      ]
     },
     "metadata": {},
     "output_type": "display_data"
    }
   ],
   "source": [
    "print_distribution(lambda : compute_mean_from_same_sampling_method(custom_sampling_method))"
   ]
  },
  {
   "cell_type": "markdown",
   "metadata": {},
   "source": [
    "As we expected it's a normal as well.\n",
    "\n",
    "Interesting thing we can note here is that the mean of this new distribution is the same that the custom distribution we designed !"
   ]
  },
  {
   "cell_type": "markdown",
   "metadata": {},
   "source": [
    "# How does the number of samples change the distribution ?"
   ]
  },
  {
   "cell_type": "markdown",
   "metadata": {},
   "source": [
    "We of course expect that as the number of samples goes up, the final mean distribution will be \"less spread\", or \"more precise\" around its mean. \n",
    "\n",
    "*But how much ?*"
   ]
  },
  {
   "cell_type": "markdown",
   "metadata": {},
   "source": [
    "## With 100 samples"
   ]
  },
  {
   "cell_type": "code",
   "execution_count": 61,
   "metadata": {},
   "outputs": [
    {
     "name": "stdout",
     "output_type": "stream",
     "text": [
      "Mean: 24.681991669844923\n",
      "Standard Deviation: 1.7232647632660922\n",
      "A look at the distribution\n"
     ]
    },
    {
     "data": {
      "image/png": "[encoded data removed]",
      "text/plain": [
       "<Figure size 432x288 with 1 Axes>"
      ]
     },
     "metadata": {},
     "output_type": "display_data"
    }
   ],
   "source": [
    "print_distribution(lambda : compute_mean_from_same_sampling_method(custom_sampling_method, N=100))"
   ]
  },
  {
   "cell_type": "markdown",
   "metadata": {},
   "source": [
    "## With 1000 samples"
   ]
  },
  {
   "cell_type": "code",
   "execution_count": 62,
   "metadata": {},
   "outputs": [
    {
     "name": "stdout",
     "output_type": "stream",
     "text": [
      "Mean: 24.693500743779644\n",
      "Standard Deviation: 0.54055615981133\n",
      "A look at the distribution\n"
     ]
    },
    {
     "data": {
      "image/png": "[encoded data removed]",
      "text/plain": [
       "<Figure size 432x288 with 1 Axes>"
      ]
     },
     "metadata": {},
     "output_type": "display_data"
    }
   ],
   "source": [
    "print_distribution(lambda : compute_mean_from_same_sampling_method(custom_sampling_method, N=1000))"
   ]
  },
  {
   "cell_type": "markdown",
   "metadata": {},
   "source": [
    "## With 10000 samples"
   ]
  },
  {
   "cell_type": "code",
   "execution_count": 63,
   "metadata": {},
   "outputs": [
    {
     "name": "stdout",
     "output_type": "stream",
     "text": [
      "Mean: 24.699088086709615\n",
      "Standard Deviation: 0.17251842331142977\n",
      "A look at the distribution\n"
     ]
    },
    {
     "data": {
      "image/png": "[encoded data removed]",
      "text/plain": [
       "<Figure size 432x288 with 1 Axes>"
      ]
     },
     "metadata": {},
     "output_type": "display_data"
    }
   ],
   "source": [
    "print_distribution(lambda : compute_mean_from_same_sampling_method(custom_sampling_method, N=10000))"
   ]
  },
  {
   "cell_type": "markdown",
   "metadata": {},
   "source": [
    "We can see here that as the number of samples goes up the mean distribution gets tighter to the mean of our custom distribution.\n",
    "As the number of samples is multiplied by 10, the standard deviation is divided by ...~3.16 = Square root of 10 !"
   ]
  },
  {
   "cell_type": "markdown",
   "metadata": {},
   "source": [
    "This is expected, the Central Limit Theorem states that the mean distribution follows a normal distribution with parameters mean = (mean of the custom input distribution), and variance = (variance of the custom input distribution divided by the number of samples) !"
   ]
  },
  {
   "cell_type": "markdown",
   "metadata": {},
   "source": [
    "# Why is this nice"
   ]
  },
  {
   "cell_type": "markdown",
   "metadata": {},
   "source": [
    "The normal distribution is a distribution that is very handy to manipulate and that has been studied a lot. "
   ]
  },
  {
   "cell_type": "markdown",
   "metadata": {},
   "source": [
    "When performing A/B testing or other kind of statistical analysis we often have to estimate sum or mean of a sample !\n",
    "Knowing that whatever the input distribution is, these estimates will revolve in a normal distribution is a silver bullet in analysis, it will enable to estimate probabilities easily."
   ]
  },
  {
   "cell_type": "markdown",
   "metadata": {},
   "source": [
    "## Appendix: Careful, this doesn't work with the median"
   ]
  },
  {
   "cell_type": "code",
   "execution_count": 65,
   "metadata": {},
   "outputs": [
    {
     "data": {
      "text/plain": [
       "30.53999166748583"
      ]
     },
     "execution_count": 65,
     "metadata": {},
     "output_type": "execute_result"
    }
   ],
   "source": [
    "def compute_median_from_same_sampling_method(method, N=1000):\n",
    "    return np.median([method() for i in range(N)])\n",
    "    \n",
    "    \n",
    "compute_median_from_same_sampling_method(custom_sampling_method)"
   ]
  },
  {
   "cell_type": "code",
   "execution_count": 66,
   "metadata": {},
   "outputs": [
    {
     "name": "stdout",
     "output_type": "stream",
     "text": [
      "Mean: 26.098338008599047\n",
      "Standard Deviation: 4.700948068394575\n",
      "A look at the distribution\n"
     ]
    },
    {
     "data": {
      "image/png": "[encoded data removed]",
      "text/plain": [
       "<Figure size 432x288 with 1 Axes>"
      ]
     },
     "metadata": {},
     "output_type": "display_data"
    }
   ],
   "source": [
    "print_distribution(lambda : compute_median_from_same_sampling_method(custom_sampling_method, N=1000))"
   ]
  },
  {
   "cell_type": "markdown",
   "metadata": {},
   "source": [
    "The median is not normally distributed at all, hence it's a difficult tool to work with"
   ]
  },
  {
   "cell_type": "code",
   "execution_count": null,
   "metadata": {},
   "outputs": [],
   "source": []
  }
 ],
 "metadata": {
  "kernelspec": {
   "display_name": "Python 3",
   "language": "python",
   "name": "python3"
  },
  "language_info": {
   "codemirror_mode": {
    "name": "ipython",
    "version": 3
   },
   "file_extension": ".py",
   "mimetype": "text/x-python",
   "name": "python",
   "nbconvert_exporter": "python",
   "pygments_lexer": "ipython3",
   "version": "3.5.2"
  }
 },
 "nbformat": 4,
 "nbformat_minor": 2
}
